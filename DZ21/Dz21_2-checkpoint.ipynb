{
 "cells": [
  {
   "cell_type": "code",
   "execution_count": 1,
   "id": "c81166dd",
   "metadata": {},
   "outputs": [],
   "source": [
    "import numpy as np\n"
   ]
  },
  {
   "cell_type": "code",
   "execution_count": 86,
   "id": "35ab4a19",
   "metadata": {},
   "outputs": [
    {
     "name": "stdout",
     "output_type": "stream",
     "text": [
      "[4, 2, 0]\n",
      "[1, 3, 2]\n",
      "[-1, 3, 10]\n"
     ]
    }
   ],
   "source": [
    "# створення матриці\n",
    "matrixx = [[4, 2, 0], [1, 3, 2], [-1, 3, 10]]\n",
    "for i in range(3):\n",
    "    print(matrixx [i])"
   ]
  },
  {
   "cell_type": "code",
   "execution_count": 87,
   "id": "661aeb6b",
   "metadata": {},
   "outputs": [
    {
     "name": "stdout",
     "output_type": "stream",
     "text": [
      "[1, 3, 2]\n",
      "[4, 2, 0]\n",
      "[-1, 3, 10]\n"
     ]
    }
   ],
   "source": [
    "# міняємо рядки місцями\n",
    "c = matrixx[0]\n",
    "matrixx[0] = matrixx[1]\n",
    "matrixx[1] = c\n",
    "for i in range(3):\n",
    "    print(matrixx[i])"
   ]
  },
  {
   "cell_type": "code",
   "execution_count": 88,
   "id": "bdada459",
   "metadata": {},
   "outputs": [
    {
     "name": "stdout",
     "output_type": "stream",
     "text": [
      "[1, 3, 2]\n",
      "[0, -10, -8]\n",
      "[0, 6, 12]\n"
     ]
    }
   ],
   "source": [
    "#До другого рядка додати перший рядок, який помножили на (-4)\n",
    "matrixx = [[1, 3, 2], [4, 2, 0], [-1, 3, 10]]\n",
    "for i in range(3):\n",
    "    matrixx[1][i] = matrixx[1][i] + matrixx[0][i]*(-4)\n",
    "    matrixx[2][i] =  matrixx[2][i] +  matrixx[0][i]\n",
    "for i in range(3):\n",
    "    print(matrixx[i])\n",
    "# \n",
    "\n"
   ]
  },
  {
   "cell_type": "code",
   "execution_count": 89,
   "id": "f37b688d",
   "metadata": {},
   "outputs": [
    {
     "name": "stdout",
     "output_type": "stream",
     "text": [
      "[1, 3, 2]\n",
      "[-0.0, 5.0, 4.0]\n",
      "[0.0, 1.0, 2.0]\n"
     ]
    }
   ],
   "source": [
    "# другий рядок ділимо на  -2 та третій рядок ділимо на 6\n",
    "for i in range(3):\n",
    "    matrixx[1][i] = matrixx[1][i]/(-2)\n",
    "    matrixx[2][i] =  matrixx[2][i]/6\n",
    "for i in range(3):\n",
    "    print(matrixx[i])\n"
   ]
  },
  {
   "cell_type": "code",
   "execution_count": 90,
   "id": "2942feb5",
   "metadata": {},
   "outputs": [
    {
     "name": "stdout",
     "output_type": "stream",
     "text": [
      "[1, 3, 2]\n",
      "[0.0, 1.0, 2.0]\n",
      "[-0.0, 5.0, 4.0]\n"
     ]
    }
   ],
   "source": [
    "# міняємо другий та третій рядок місцями\n",
    "c = matrixx[1]\n",
    "matrixx[1] = matrixx[2]\n",
    "matrixx[2] = c\n",
    "for i in range(3):\n",
    "    print(matrixx[i])"
   ]
  },
  {
   "cell_type": "code",
   "execution_count": 91,
   "id": "65caf32e",
   "metadata": {},
   "outputs": [
    {
     "name": "stdout",
     "output_type": "stream",
     "text": [
      "[1, 3, 2]\n",
      "[0.0, 1.0, 2.0]\n",
      "[-0.0, 0.0, -6.0]\n"
     ]
    }
   ],
   "source": [
    "# до третього додамо другий, помножений на -5\n",
    "\n",
    "for i in range(3):\n",
    "    matrixx[2][i] = matrixx[2][i] + matrixx[1][i]*(-5)\n",
    "for i in range(3):\n",
    "    print(matrixx[i])\n"
   ]
  },
  {
   "cell_type": "code",
   "execution_count": null,
   "id": "f7b1ce11",
   "metadata": {},
   "outputs": [],
   "source": []
  }
 ],
 "metadata": {
  "kernelspec": {
   "display_name": "Python 3 (ipykernel)",
   "language": "python",
   "name": "python3"
  },
  "language_info": {
   "codemirror_mode": {
    "name": "ipython",
    "version": 3
   },
   "file_extension": ".py",
   "mimetype": "text/x-python",
   "name": "python",
   "nbconvert_exporter": "python",
   "pygments_lexer": "ipython3",
   "version": "3.11.1"
  }
 },
 "nbformat": 4,
 "nbformat_minor": 5
}

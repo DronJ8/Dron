{
 "cells": [
  {
   "cell_type": "code",
   "execution_count": 20,
   "id": "ff6b3201",
   "metadata": {},
   "outputs": [
    {
     "name": "stdout",
     "output_type": "stream",
     "text": [
      "0.5142857142857142\n"
     ]
    }
   ],
   "source": [
    "# Задача №1 з теми 23\n",
    "import math\n",
    "# n, k =1,2\n",
    "def  varr(n,k):\n",
    "    N = math.factorial(n) / (math.factorial(k)*math.factorial(n-k))\n",
    "    return N\n",
    "# кількість всіх можливих елементарних наслідків\n",
    "n1 = varr(7,3)\n",
    "# print(n1)\n",
    "# події А сприятимуть комбінації\n",
    "n2 = varr(4,2) * varr(3,1)\n",
    "print(n2/n1)\n"
   ]
  },
  {
   "cell_type": "code",
   "execution_count": 21,
   "id": "8820ff57",
   "metadata": {},
   "outputs": [
    {
     "name": "stdout",
     "output_type": "stream",
     "text": [
      "Ймовірність того, що спрацює хоча б один стабілізатор -  0.995\n",
      "Ймовірність того, що спрацює тільки один стабілізатор -  0.14\n"
     ]
    }
   ],
   "source": [
    "# Задача №2 з теми 23\n",
    "ProbA = 0.95\n",
    "ProbB = 0.9\n",
    "ProbA_ = 0.05\n",
    "ProbB_ = 0.1\n",
    "# ймовірність того, що спрацює хоча б один стабілізатор\n",
    "P1 = ProbA*ProbB + ProbA*ProbB_ + ProbB*ProbA_\n",
    "print(\"Ймовірність того, що спрацює хоча б один стабілізатор - \", P1)\n",
    "# ймовірність того, що спрацює тільки один стабілізатор\n",
    "P2 = ProbA*ProbB_ + ProbB*ProbA_\n",
    "print(\"Ймовірність того, що спрацює тільки один стабілізатор - \",P2)"
   ]
  },
  {
   "cell_type": "code",
   "execution_count": 23,
   "id": "e0c7063c",
   "metadata": {},
   "outputs": [
    {
     "name": "stdout",
     "output_type": "stream",
     "text": [
      "Взятий виріб першого гатунку 0.68\n",
      "Взятий виріб першого гатунку вироблений на першому верстаті 0.5882352941176471\n"
     ]
    }
   ],
   "source": [
    "# Задача №3 з теми 23\n",
    "pr1 = (60*2)/100\n",
    "pr2 = 84/100\n",
    "\n",
    "\n",
    "\n",
    "# Ймовірність того, що взятий виріб першого гатунку\n",
    "P1 = (60*2+84)/(100+100+100)\n",
    "print(\"Взятий виріб першого гатунку\", P1)\n",
    "\n",
    "# Ймовірність того, що взятий виріб першого гатунку вироблений на першому верстаті\n",
    "P2 = pr1/(pr1+pr2)\n",
    "print(\"Взятий виріб першого гатунку вироблений на першому верстаті\", P2)\n",
    "\n"
   ]
  },
  {
   "cell_type": "code",
   "execution_count": null,
   "id": "da73e439",
   "metadata": {},
   "outputs": [],
   "source": []
  }
 ],
 "metadata": {
  "kernelspec": {
   "display_name": "Python 3 (ipykernel)",
   "language": "python",
   "name": "python3"
  },
  "language_info": {
   "codemirror_mode": {
    "name": "ipython",
    "version": 3
   },
   "file_extension": ".py",
   "mimetype": "text/x-python",
   "name": "python",
   "nbconvert_exporter": "python",
   "pygments_lexer": "ipython3",
   "version": "3.11.1"
  }
 },
 "nbformat": 4,
 "nbformat_minor": 5
}
